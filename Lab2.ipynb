{
 "cells": [
  {
   "cell_type": "code",
   "execution_count": 3,
   "metadata": {},
   "outputs": [
    {
     "name": "stdout",
     "output_type": "stream",
     "text": [
      "[  1   2   3   4   5   7   8   9  10  11  24 100]\n",
      "100\n",
      "1\n",
      "15.333333333333334\n",
      "184\n",
      "5.0\n"
     ]
    }
   ],
   "source": [
    "# 실습. Numpy 모듈 사용해보기2\n",
    "import numpy as np\n",
    "\n",
    "arr = np.array([1,1,2,3,4,5,5,5,5,7,8,9,10,11,24,100])\n",
    "arr1 = np.unique(arr)\n",
    "print(arr1)\n",
    "\n",
    "print(np.max(arr1))\n",
    "print(np.min(arr1))\n",
    "print(np.mean(arr1))\n",
    "print(np.sum(arr1))\n",
    "print(np.median(arr))\n"
   ]
  },
  {
   "cell_type": "code",
   "execution_count": 32,
   "metadata": {},
   "outputs": [
    {
     "name": "stdout",
     "output_type": "stream",
     "text": [
      "[[  0   1   2   3   4]\n",
      " [-99   6 -99   8 -99]\n",
      " [-99  11 -99  13 -99]]\n",
      "최대: 0, 최소: -99, 평균: -66.0\n",
      "2행 합: -283\n",
      "[100  24  11  10   9   8   7   5   5   5   5   4   3   2   1   1]\n"
     ]
    }
   ],
   "source": [
    "# 실습. Numpy 모듈 사용해보기3\n",
    "x = np.arange(15, dtype=np.int64).reshape(3,5)\n",
    "x[1:, ::2] = -99\n",
    "print(x)\n",
    "\n",
    "print(f\"최대: {np.max(x[:,0])}, 최소: {np.min(x[:,0])}, 평균: {np.mean(x[:,0])}\")\n",
    "\n",
    "print(f\"2행 합: {np.sum(x[1,:])}\")\n",
    "a = np.argsort(arr)\n",
    "print(arr[a])\n",
    "a_rev = arr[::-1]\n",
    "print(arr[a[::-1]])"
   ]
  },
  {
   "cell_type": "code",
   "execution_count": null,
   "metadata": {},
   "outputs": [],
   "source": []
  }
 ],
 "metadata": {
  "kernelspec": {
   "display_name": "base",
   "language": "python",
   "name": "python3"
  },
  "language_info": {
   "codemirror_mode": {
    "name": "ipython",
    "version": 3
   },
   "file_extension": ".py",
   "mimetype": "text/x-python",
   "name": "python",
   "nbconvert_exporter": "python",
   "pygments_lexer": "ipython3",
   "version": "3.12.7"
  }
 },
 "nbformat": 4,
 "nbformat_minor": 2
}
